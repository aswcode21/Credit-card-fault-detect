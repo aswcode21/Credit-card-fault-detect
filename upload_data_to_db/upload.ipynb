{
 "cells": [
  {
   "cell_type": "code",
   "execution_count": null,
   "metadata": {},
   "outputs": [],
   "source": [
    "os.chdir(\"\")"
   ]
  },
  {
   "cell_type": "code",
   "execution_count": 14,
   "metadata": {},
   "outputs": [
    {
     "name": "stdout",
     "output_type": "stream",
     "text": [
      "D:\\personal-repo-projects\\credit-card-fraud-detection\\upload_data_to_db\\data\\creditCardFraud_28011960_120210.csv\n",
      "creditCardFraud_28011960_120210 is uploaded to mongodb\n",
      "D:\\personal-repo-projects\\credit-card-fraud-detection\\upload_data_to_db\\data\\creditCardFraud_28011961_120211.csv\n",
      "creditCardFraud_28011961_120211 is uploaded to mongodb\n",
      "D:\\personal-repo-projects\\credit-card-fraud-detection\\upload_data_to_db\\data\\creditCardFraud_28011962_120212.csv\n",
      "creditCardFraud_28011962_120212 is uploaded to mongodb\n",
      "D:\\personal-repo-projects\\credit-card-fraud-detection\\upload_data_to_db\\data\\creditCardFraud_28011963_120213.csv\n",
      "creditCardFraud_28011963_120213 is uploaded to mongodb\n",
      "D:\\personal-repo-projects\\credit-card-fraud-detection\\upload_data_to_db\\data\\creditCardFraud_28011964_120214.csv\n",
      "creditCardFraud_28011964_120214 is uploaded to mongodb\n",
      "D:\\personal-repo-projects\\credit-card-fraud-detection\\upload_data_to_db\\data\\creditCardFraud_28011965_120215.csv\n",
      "creditCardFraud_28011965_120215 is uploaded to mongodb\n",
      "D:\\personal-repo-projects\\credit-card-fraud-detection\\upload_data_to_db\\data\\creditCardFraud_28011966_120216.csv\n",
      "creditCardFraud_28011966_120216 is uploaded to mongodb\n",
      "D:\\personal-repo-projects\\credit-card-fraud-detection\\upload_data_to_db\\data\\creditCardFraud_28011967_120217.csv\n",
      "creditCardFraud_28011967_120217 is uploaded to mongodb\n",
      "D:\\personal-repo-projects\\credit-card-fraud-detection\\upload_data_to_db\\data\\creditCardFraud_28011968_120218.csv\n",
      "creditCardFraud_28011968_120218 is uploaded to mongodb\n",
      "D:\\personal-repo-projects\\credit-card-fraud-detection\\upload_data_to_db\\data\\creditCardFraud_28011969_120219.csv\n",
      "creditCardFraud_28011969_120219 is uploaded to mongodb\n",
      "D:\\personal-repo-projects\\credit-card-fraud-detection\\upload_data_to_db\\data\\creditCardFraud_28011970_120220.csv\n",
      "creditCardFraud_28011970_120220 is uploaded to mongodb\n",
      "D:\\personal-repo-projects\\credit-card-fraud-detection\\upload_data_to_db\\data\\creditCardFraud_28011971_120221.csv\n",
      "creditCardFraud_28011971_120221 is uploaded to mongodb\n",
      "D:\\personal-repo-projects\\credit-card-fraud-detection\\upload_data_to_db\\data\\creditCardFraud_28011972_120222.csv\n",
      "creditCardFraud_28011972_120222 is uploaded to mongodb\n",
      "D:\\personal-repo-projects\\credit-card-fraud-detection\\upload_data_to_db\\data\\creditCardFraud_28011973_120223.csv\n",
      "creditCardFraud_28011973_120223 is uploaded to mongodb\n",
      "D:\\personal-repo-projects\\credit-card-fraud-detection\\upload_data_to_db\\data\\creditCardFraud_28011974_120224.csv\n",
      "creditCardFraud_28011974_120224 is uploaded to mongodb\n",
      "D:\\personal-repo-projects\\credit-card-fraud-detection\\upload_data_to_db\\data\\creditCardFraud_28011975_120225.csv\n",
      "creditCardFraud_28011975_120225 is uploaded to mongodb\n",
      "D:\\personal-repo-projects\\credit-card-fraud-detection\\upload_data_to_db\\data\\creditCardFraud_28011976_120226.csv\n",
      "creditCardFraud_28011976_120226 is uploaded to mongodb\n",
      "D:\\personal-repo-projects\\credit-card-fraud-detection\\upload_data_to_db\\data\\creditCardFraud_28011977_120227.csv\n",
      "creditCardFraud_28011977_120227 is uploaded to mongodb\n",
      "D:\\personal-repo-projects\\credit-card-fraud-detection\\upload_data_to_db\\data\\creditCardFraud_28011978_120228.csv\n",
      "creditCardFraud_28011978_120228 is uploaded to mongodb\n",
      "D:\\personal-repo-projects\\credit-card-fraud-detection\\upload_data_to_db\\data\\creditCardFraud_28011979_120229.csv\n",
      "creditCardFraud_28011979_120229 is uploaded to mongodb\n",
      "D:\\personal-repo-projects\\credit-card-fraud-detection\\upload_data_to_db\\data\\creditCardFraud_28011980_120230.csv\n",
      "creditCardFraud_28011980_120230 is uploaded to mongodb\n",
      "D:\\personal-repo-projects\\credit-card-fraud-detection\\upload_data_to_db\\data\\creditCardFraud_28011981_120231.csv\n",
      "creditCardFraud_28011981_120231 is uploaded to mongodb\n",
      "D:\\personal-repo-projects\\credit-card-fraud-detection\\upload_data_to_db\\data\\creditCardFraud_28011982_120232.csv\n",
      "creditCardFraud_28011982_120232 is uploaded to mongodb\n",
      "D:\\personal-repo-projects\\credit-card-fraud-detection\\upload_data_to_db\\data\\creditCardFraud_28011983_120233.csv\n",
      "creditCardFraud_28011983_120233 is uploaded to mongodb\n",
      "D:\\personal-repo-projects\\credit-card-fraud-detection\\upload_data_to_db\\data\\creditCardFraud_28011984_120234.csv\n",
      "creditCardFraud_28011984_120234 is uploaded to mongodb\n",
      "D:\\personal-repo-projects\\credit-card-fraud-detection\\upload_data_to_db\\data\\creditCardFraud_28011985_120235.csv\n",
      "creditCardFraud_28011985_120235 is uploaded to mongodb\n",
      "D:\\personal-repo-projects\\credit-card-fraud-detection\\upload_data_to_db\\data\\creditCardFraud_28011986_120236.csv\n",
      "creditCardFraud_28011986_120236 is uploaded to mongodb\n",
      "D:\\personal-repo-projects\\credit-card-fraud-detection\\upload_data_to_db\\data\\creditCardFraud_28011987_120237.csv\n",
      "creditCardFraud_28011987_120237 is uploaded to mongodb\n",
      "D:\\personal-repo-projects\\credit-card-fraud-detection\\upload_data_to_db\\data\\creditCardFraud_28011988_120238.csv\n",
      "creditCardFraud_28011988_120238 is uploaded to mongodb\n",
      "D:\\personal-repo-projects\\credit-card-fraud-detection\\upload_data_to_db\\data\\creditCardFraud_28011989_120239.csv\n",
      "creditCardFraud_28011989_120239 is uploaded to mongodb\n",
      "D:\\personal-repo-projects\\credit-card-fraud-detection\\upload_data_to_db\\data\\creditCardFraud_28011990_120240.csv\n",
      "creditCardFraud_28011990_120240 is uploaded to mongodb\n"
     ]
    }
   ],
   "source": [
    "from database_connect import mongo_operation as mongo\n",
    "import os\n",
    "\n",
    "client_url= \"\"\n",
    "database_name = \"credit-card\"\n",
    "\n",
    "\n",
    "def upload_files_to_mongodb(\n",
    "    mongo_client_con_string,\n",
    "    database_name,\n",
    "    datasets_dir_name):\n",
    "  \n",
    "  for file in os.listdir(datasets_dir_name):\n",
    "    if file.endswith('.csv'):\n",
    "      file_name = file.split('.')[0]\n",
    "\n",
    "      mongo_connection = mongo(\n",
    "          client_url = mongo_client_con_string,\n",
    "          database_name= database_name,\n",
    "          collection_name= file_name\n",
    "      )\n",
    "\n",
    "      file_path = os.path.join(datasets_dir_name, file)\n",
    "      print(file_path)\n",
    "      mongo_connection.bulk_insert(file_path)\n",
    "      print(f\"{file_name} is uploaded to mongodb\")\n",
    "\n",
    "\n",
    "upload_files_to_mongodb(\n",
    "    mongo_client_con_string= client_url,\n",
    "    database_name = database_name,\n",
    "    datasets_dir_name= r\"D:\\personal-repo-projects\\credit-card-fraud-detection\\upload_data_to_db\\data\" )\n"
   ]
  },
  {
   "cell_type": "code",
   "execution_count": 6,
   "metadata": {},
   "outputs": [
    {
     "data": {
      "text/plain": [
       "['creditCardFraud_28011960_120210.csv',\n",
       " 'creditCardFraud_28011961_120211.csv',\n",
       " 'creditCardFraud_28011962_120212.csv',\n",
       " 'creditCardFraud_28011963_120213.csv',\n",
       " 'creditCardFraud_28011964_120214.csv',\n",
       " 'creditCardFraud_28011965_120215.csv',\n",
       " 'creditCardFraud_28011966_120216.csv',\n",
       " 'creditCardFraud_28011967_120217.csv',\n",
       " 'creditCardFraud_28011968_120218.csv',\n",
       " 'creditCardFraud_28011969_120219.csv',\n",
       " 'creditCardFraud_28011970_120220.csv',\n",
       " 'creditCardFraud_28011971_120221.csv',\n",
       " 'creditCardFraud_28011972_120222.csv',\n",
       " 'creditCardFraud_28011973_120223.csv',\n",
       " 'creditCardFraud_28011974_120224.csv',\n",
       " 'creditCardFraud_28011975_120225.csv',\n",
       " 'creditCardFraud_28011976_120226.csv',\n",
       " 'creditCardFraud_28011977_120227.csv',\n",
       " 'creditCardFraud_28011978_120228.csv',\n",
       " 'creditCardFraud_28011979_120229.csv',\n",
       " 'creditCardFraud_28011980_120230.csv',\n",
       " 'creditCardFraud_28011981_120231.csv',\n",
       " 'creditCardFraud_28011982_120232.csv',\n",
       " 'creditCardFraud_28011983_120233.csv',\n",
       " 'creditCardFraud_28011984_120234.csv',\n",
       " 'creditCardFraud_28011985_120235.csv',\n",
       " 'creditCardFraud_28011986_120236.csv',\n",
       " 'creditCardFraud_28011987_120237.csv',\n",
       " 'creditCardFraud_28011988_120238.csv',\n",
       " 'creditCardFraud_28011989_120239.csv',\n",
       " 'creditCardFraud_28011990_120240.csv']"
      ]
     },
     "execution_count": 6,
     "metadata": {},
     "output_type": "execute_result"
    }
   ],
   "source": []
  },
  {
   "cell_type": "code",
   "execution_count": 1,
   "metadata": {},
   "outputs": [
    {
     "data": {
      "text/plain": [
       "int"
      ]
     },
     "execution_count": 1,
     "metadata": {},
     "output_type": "execute_result"
    }
   ],
   "source": [
    "type(-1)"
   ]
  },
  {
   "cell_type": "code",
   "execution_count": null,
   "metadata": {},
   "outputs": [],
   "source": []
  }
 ],
 "metadata": {
  "kernelspec": {
   "display_name": "Python 3",
   "language": "python",
   "name": "python3"
  },
  "language_info": {
   "codemirror_mode": {
    "name": "ipython",
    "version": 3
   },
   "file_extension": ".py",
   "mimetype": "text/x-python",
   "name": "python",
   "nbconvert_exporter": "python",
   "pygments_lexer": "ipython3",
   "version": "3.11.3"
  },
  "orig_nbformat": 4
 },
 "nbformat": 4,
 "nbformat_minor": 2
}
